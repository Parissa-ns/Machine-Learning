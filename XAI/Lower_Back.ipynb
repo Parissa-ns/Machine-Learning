{
  "nbformat": 4,
  "nbformat_minor": 0,
  "metadata": {
    "colab": {
      "name": "Lower Back.ipynb",
      "provenance": [],
      "collapsed_sections": [],
      "machine_shape": "hm"
    },
    "kernelspec": {
      "name": "python3",
      "display_name": "Python 3"
    },
    "accelerator": "GPU"
  },
  "cells": [
    {
      "cell_type": "markdown",
      "metadata": {
        "id": "9CG_HnqGAjrN"
      },
      "source": [
        "# Lower Back Pain Classification Algorithm"
      ]
    },
    {
      "cell_type": "code",
      "source": [
        "import pandas as pd\n",
        "import numpy as np\n",
        "import seaborn as sns\n",
        "\n",
        "# read data into dataset variable\n",
        "data = pd.read_csv(\"/content/sample_data/Dataset_spine.csv\")\n",
        "\n",
        "# Drop the unnamed column in place (not a copy of the original)#\n",
        "data.drop('Unnamed: 13', axis=1, inplace=True)\n",
        "\n",
        "# Concatenate the original df with the dummy variables\n",
        "data = pd.concat([data, pd.get_dummies(data['Class_att'])], axis=1)\n",
        "\n",
        "# Drop unnecessary label column in place. \n",
        "data.drop(['Class_att','Normal'], axis=1, inplace=True)"
      ],
      "metadata": {
        "id": "p-1eiu0CZLGE"
      },
      "execution_count": 1,
      "outputs": []
    },
    {
      "cell_type": "code",
      "source": [
        "data.head()"
      ],
      "metadata": {
        "id": "No6T83xQZUco"
      },
      "execution_count": null,
      "outputs": []
    },
    {
      "cell_type": "code",
      "source": [
        "import seaborn as sns\n",
        "import matplotlib.pyplot as plt\n",
        "%matplotlib inline"
      ],
      "metadata": {
        "id": "SuYJYeM3Zgw9"
      },
      "execution_count": 3,
      "outputs": []
    },
    {
      "cell_type": "markdown",
      "source": [
        "# Exploratory Data Analysis"
      ],
      "metadata": {
        "id": "7cqM-jByZiRy"
      }
    },
    {
      "cell_type": "code",
      "source": [
        "data.columns = ['Pelvic Incidence','Pelvic Tilt','Lumbar Lordosis Angle','Sacral Slope','Pelvic Radius', \n",
        "                'Spondylolisthesis Degree', 'Pelvic Slope', 'Direct Tilt', 'Thoracic Slope', \n",
        "                'Cervical Tilt','Sacrum Angle', 'Scoliosis Slope','Outcome']\n",
        "\n",
        "corr = data.corr()\n",
        "\n",
        "# Set up the matplot figure\n",
        "f, ax = plt.subplots(figsize=(12,9))\n",
        "\n",
        "#Draw the heatmap using seaborn\n",
        "sns.heatmap(corr, cmap='inferno', annot=True)"
      ],
      "metadata": {
        "id": "JVST8L2UZlmT"
      },
      "execution_count": null,
      "outputs": []
    },
    {
      "cell_type": "code",
      "source": [
        "data.describe()"
      ],
      "metadata": {
        "id": "1zNE7uErZt0Y"
      },
      "execution_count": null,
      "outputs": []
    },
    {
      "cell_type": "code",
      "source": [
        "from pylab import *\n",
        "import copy\n",
        "outlier = data[[\"Spondylolisthesis Degree\", \"Outcome\"]]\n",
        "#print(outlier[outlier >200])\n",
        "abspond = outlier[outlier[\"Spondylolisthesis Degree\"]>15]\n",
        "print(\"1= Abnormal, 0=Normal\\n\",abspond[\"Outcome\"].value_counts())"
      ],
      "metadata": {
        "id": "jtoqjSMvZ2IW"
      },
      "execution_count": null,
      "outputs": []
    },
    {
      "cell_type": "code",
      "source": [
        "#   Dropping Outlier\n",
        "data = data.drop(115,0)\n",
        "colr = copy.copy(data[\"Outcome\"])\n",
        "co = colr.map({1:0.44, 0:0.83})\n",
        "\n",
        "#   Plot scatter\n",
        "plt.scatter(data[\"Cervical Tilt\"], data[\"Spondylolisthesis Degree\"], c=co, cmap=plt.cm.RdYlGn)\n",
        "plt.xlabel(\"Cervical Tilt\")\n",
        "plt.ylabel(\"Spondylolisthesis Degree\")\n",
        "\n",
        "colors=[ 'c', 'y', 'm',]\n",
        "ab =data[\"Outcome\"].where(data[\"Outcome\"]==1)\n",
        "no = data[\"Outcome\"].where(data[\"Outcome\"]==0)\n",
        "plt.show()\n",
        "# UNFINISHED ----- OBJECTIVE: Color visual by Outcome - 0 for green, 1 for Red (example)"
      ],
      "metadata": {
        "id": "UIStDcMkZ6f8"
      },
      "execution_count": null,
      "outputs": []
    },
    {
      "cell_type": "code",
      "source": [
        "#   Create the training dataset\n",
        "training = data.drop('Outcome', axis=1)\n",
        "testing = data['Outcome']"
      ],
      "metadata": {
        "id": "rXzfTM6NaARG"
      },
      "execution_count": 8,
      "outputs": []
    },
    {
      "cell_type": "code",
      "source": [
        "#   Import necessary ML packages\n",
        "from sklearn.model_selection import train_test_split\n",
        "from sklearn.linear_model import LogisticRegression\n",
        "from sklearn.pipeline import Pipeline\n",
        "from sklearn.metrics import classification_report\n",
        "\n",
        "#   Split into training/testing datasets using Train_test_split\n",
        "X_train, X_test, y_train, y_test = train_test_split(training, testing, test_size=0.33, random_state=22, stratify=testing)"
      ],
      "metadata": {
        "id": "8T7mLeEBaCwL"
      },
      "execution_count": 9,
      "outputs": []
    },
    {
      "cell_type": "markdown",
      "source": [
        "# Convert DataFrame Object to a numpy array due to faster computation in modelling"
      ],
      "metadata": {
        "id": "mwiGW1UsaFlS"
      }
    },
    {
      "cell_type": "code",
      "source": [
        "import numpy as np\n",
        "\n",
        "# convert to numpy.ndarray and dtype=float64 for optimal\n",
        "array_train = np.asarray(training)\n",
        "array_test = np.asarray(testing)\n",
        "print(array_train.shape)\n",
        "print(array_test.shape)\n",
        "\n",
        "#   Convert each pandas DataFrame object into a numpy array object. \n",
        "array_XTrain, array_XTest, array_ytrain, array_ytest = np.asarray(X_train), np.asarray(X_test), np.asarray(y_train), np.asarray(y_test)"
      ],
      "metadata": {
        "id": "K8vqPyURaGVb"
      },
      "execution_count": null,
      "outputs": []
    },
    {
      "cell_type": "markdown",
      "source": [
        "# Employing Support Vector Machine as a Classifier - 85%"
      ],
      "metadata": {
        "id": "yfFokk2taOcG"
      }
    },
    {
      "cell_type": "code",
      "source": [
        "#    Import Necessary Packages\n",
        "from sklearn import svm\n",
        "from sklearn.metrics import accuracy_score\n",
        "\n",
        "#   Instantiate the classifier\n",
        "clf = svm.SVC(kernel='linear')\n",
        "\n",
        "#   Fit the model to the training data\n",
        "clf.fit(array_XTrain, array_ytrain)\n",
        "\n",
        "#   Generate a prediction and store it in 'pred'\n",
        "pred = clf.predict(array_XTest)\n",
        "\n",
        "#   Print the accuracy score/percent correct\n",
        "svmscore = accuracy_score(array_ytest, pred)\n",
        "print(\"Support Vector Machines are \", svmscore*100, \"accurate\")"
      ],
      "metadata": {
        "id": "UxGF72E1aQNT"
      },
      "execution_count": null,
      "outputs": []
    }
  ]
}